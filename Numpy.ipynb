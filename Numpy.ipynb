{
 "cells": [
  {
   "cell_type": "markdown",
   "id": "079df63b-1921-44f3-973b-ebd48a9e5d93",
   "metadata": {},
   "source": [
    "# Introducción a Numpy"
   ]
  },
  {
   "cell_type": "markdown",
   "id": "16697ce9-3712-4c28-b7e9-2bc2062bcef5",
   "metadata": {},
   "source": [
    "[Numpy](https://numpy.org/doc/stable/) es una biblioteca fundamental para la computación cientifica con Python."
   ]
  },
  {
   "cell_type": "markdown",
   "id": "2ce857ed-56f7-4b34-8bee-ff499ae7c488",
   "metadata": {},
   "source": [
    "* Proporciona arrays N-dimensionales.\n",
    "* Implementa funciones matematicas sofisticadas.\n",
    "* Proporciona herramientas para integrar C/C++ y Fortran.\n",
    "* Proporciona mecanismos para facilitar la realización de tareas relacionadas con álgebra lineal o números aleatorios."
   ]
  },
  {
   "cell_type": "markdown",
   "id": "6c67c0d1-165b-4887-a7b3-9902a8a4dc6c",
   "metadata": {},
   "source": [
    "## Imports"
   ]
  },
  {
   "cell_type": "code",
   "execution_count": 2,
   "id": "f8064453-9824-4c07-b977-e62aac87fe2d",
   "metadata": {},
   "outputs": [],
   "source": [
    "import numpy as np"
   ]
  },
  {
   "cell_type": "markdown",
   "id": "98e3c340-76de-4963-8eed-add8794abf1e",
   "metadata": {},
   "source": [
    "## Arrays"
   ]
  },
  {
   "cell_type": "markdown",
   "id": "1fbcbf3e-706f-46ee-980d-df27b9e9b68d",
   "metadata": {},
   "source": [
    "Un **array** es una estructurada de datos que consiste en una colección de elementos (valores o variables), cada uno identificado por el menos un indice o clave. Un array se almacena de modo que la posición de cada elemento se pueda calcular a partir de su tupla de indice mediante una fórmula matemática. El tipo más simple de array es un array lineal, también llamado array unidemensional."
   ]
  },
  {
   "cell_type": "markdown",
   "id": "c437f6d4-e6b7-4b15-8f9f-77e6560368be",
   "metadata": {},
   "source": [
    "En Numpy:\n",
    "* Cada dimensión se denomina **axis**.\n",
    "* El número de dimensiones se denimina **rank**.\n",
    "* La lista de dimensiones con su correspondiente longitud se denomina **shape**.\n",
    "* El número total de elementos (multiplicación de la longitud de las dimensiones) se denomina **size**"
   ]
  },
  {
   "cell_type": "code",
   "execution_count": 2,
   "id": "788f9a02-d092-4a01-b788-c4d0351253d4",
   "metadata": {},
   "outputs": [],
   "source": [
    "#Array cuyos valores son todos 0\n",
    "a = np.zeros((2, 4))"
   ]
  },
  {
   "cell_type": "code",
   "execution_count": 3,
   "id": "af8aa37d-d8d0-4577-81df-b7c3a0c5dd1a",
   "metadata": {},
   "outputs": [
    {
     "data": {
      "text/plain": [
       "array([[0., 0., 0., 0.],\n",
       "       [0., 0., 0., 0.]])"
      ]
     },
     "execution_count": 3,
     "metadata": {},
     "output_type": "execute_result"
    }
   ],
   "source": [
    "a"
   ]
  },
  {
   "cell_type": "markdown",
   "id": "6c202b83-1c2b-4d1e-b09a-2e6373062b50",
   "metadata": {},
   "source": [
    "**a**  es un array:\n",
    "* Con dos **axis**, el primero de longitud 2 y el segundo de longitud 4.\n",
    "* Con un **rank** igual a 2.\n",
    "* Con un **shape** igual (2, 4).\n",
    "* Con un **size** igual a 8."
   ]
  },
  {
   "cell_type": "code",
   "execution_count": 4,
   "id": "9db61064-6a11-40a0-a1b2-4da421089a21",
   "metadata": {},
   "outputs": [
    {
     "data": {
      "text/plain": [
       "(2, 4)"
      ]
     },
     "execution_count": 4,
     "metadata": {},
     "output_type": "execute_result"
    }
   ],
   "source": [
    "a.shape"
   ]
  },
  {
   "cell_type": "code",
   "execution_count": 5,
   "id": "513a9365-511c-43f7-a1b8-0558d1b50fc7",
   "metadata": {},
   "outputs": [
    {
     "data": {
      "text/plain": [
       "2"
      ]
     },
     "execution_count": 5,
     "metadata": {},
     "output_type": "execute_result"
    }
   ],
   "source": [
    "a.ndim"
   ]
  },
  {
   "cell_type": "code",
   "execution_count": 6,
   "id": "5762069a-3422-4674-8408-f25ad72742fd",
   "metadata": {},
   "outputs": [
    {
     "data": {
      "text/plain": [
       "8"
      ]
     },
     "execution_count": 6,
     "metadata": {},
     "output_type": "execute_result"
    }
   ],
   "source": [
    "a.size"
   ]
  },
  {
   "cell_type": "markdown",
   "id": "5bf06eaf-1eec-4a6e-aabb-94a9c16ccc2d",
   "metadata": {},
   "source": [
    "## Creación de Arrays"
   ]
  },
  {
   "cell_type": "code",
   "execution_count": 7,
   "id": "492de5c6-958a-472a-9c94-fd230e2f62c1",
   "metadata": {},
   "outputs": [
    {
     "data": {
      "text/plain": [
       "array([[[0., 0., 0., 0.],\n",
       "        [0., 0., 0., 0.],\n",
       "        [0., 0., 0., 0.]],\n",
       "\n",
       "       [[0., 0., 0., 0.],\n",
       "        [0., 0., 0., 0.],\n",
       "        [0., 0., 0., 0.]]])"
      ]
     },
     "execution_count": 7,
     "metadata": {},
     "output_type": "execute_result"
    }
   ],
   "source": [
    "#Array cuyos valores son todos 0\n",
    "np.zeros((2, 3, 4))"
   ]
  },
  {
   "cell_type": "code",
   "execution_count": 9,
   "id": "67470a60-f66d-47cb-b229-7c768e8c7e62",
   "metadata": {},
   "outputs": [
    {
     "data": {
      "text/plain": [
       "array([[[1., 1., 1., 1.],\n",
       "        [1., 1., 1., 1.],\n",
       "        [1., 1., 1., 1.]],\n",
       "\n",
       "       [[1., 1., 1., 1.],\n",
       "        [1., 1., 1., 1.],\n",
       "        [1., 1., 1., 1.]]])"
      ]
     },
     "execution_count": 9,
     "metadata": {},
     "output_type": "execute_result"
    }
   ],
   "source": [
    "#Array cuyos valores son todos 1\n",
    "np.ones((2, 3, 4))"
   ]
  },
  {
   "cell_type": "code",
   "execution_count": 3,
   "id": "ce323ac2-cb55-40c0-a80e-8829cca19ac3",
   "metadata": {},
   "outputs": [
    {
     "data": {
      "text/plain": [
       "array([[[ 2.23249308e-316,  0.00000000e+000,  3.74742073e-317,\n",
       "          5.74177440e-124,  6.94593869e-310,  3.74742073e-317,\n",
       "         -4.71086683e+257,  6.94593870e-310,  3.74742073e-317],\n",
       "        [ 8.37205914e+017,  6.94593869e-310,  3.74742073e-317,\n",
       "         -2.60907778e-136,  6.94593869e-310,  3.74742073e-317,\n",
       "          2.96769175e-093,  6.94593869e-310,  3.74742073e-317],\n",
       "        [ 1.52118549e-234,  6.94593870e-310,  3.74742073e-317,\n",
       "          7.35978859e+231,  6.94593870e-310,  3.74742073e-317,\n",
       "         -9.88240523e-015,  6.94593871e-310,  3.74742073e-317]],\n",
       "\n",
       "       [[ 2.89001979e-017,  6.94595548e-310,  3.74742073e-317,\n",
       "          2.62312005e+154,  6.94593869e-310,  3.74742073e-317,\n",
       "         -7.22483100e-006,  6.94593870e-310,  3.74742073e-317],\n",
       "        [ 5.88278885e+262,  6.94593869e-310,  3.74742073e-317,\n",
       "          1.19483145e-018,  6.94593869e-310,  3.74742073e-317,\n",
       "          1.97635117e+080,  6.94593869e-310,  3.74742073e-317],\n",
       "        [-3.93640592e+228,  6.94593870e-310,  3.74742073e-317,\n",
       "         -3.94469375e+004,  6.94593870e-310,  3.74742073e-317,\n",
       "          1.63041663e-322,  2.26800637e-316,  6.94597359e-310]]])"
      ]
     },
     "execution_count": 3,
     "metadata": {},
     "output_type": "execute_result"
    }
   ],
   "source": [
    "np.empty((2, 3, 9))"
   ]
  },
  {
   "cell_type": "code",
   "execution_count": 5,
   "id": "4dd927e4-1b50-479e-a2f5-df0e972db874",
   "metadata": {},
   "outputs": [
    {
     "data": {
      "text/plain": [
       "array([[1, 2, 3],\n",
       "       [4, 5, 6]])"
      ]
     },
     "execution_count": 5,
     "metadata": {},
     "output_type": "execute_result"
    }
   ],
   "source": [
    "# Inicializacion del array utilizando un array de Python\n",
    "b = np.array([[1, 2, 3],[4, 5, 6]])\n",
    "b"
   ]
  },
  {
   "cell_type": "code",
   "execution_count": 6,
   "id": "931e44e7-1c4e-42ea-871e-c549cf930943",
   "metadata": {},
   "outputs": [
    {
     "data": {
      "text/plain": [
       "(2, 3)"
      ]
     },
     "execution_count": 6,
     "metadata": {},
     "output_type": "execute_result"
    }
   ],
   "source": [
    "b.shape"
   ]
  },
  {
   "cell_type": "code",
   "execution_count": 7,
   "id": "9881119a-73ca-4c01-bd7b-17737dc8990e",
   "metadata": {},
   "outputs": [
    {
     "name": "stdout",
     "output_type": "stream",
     "text": [
      "[0.         0.66666667 1.33333333 2.         2.66666667 3.33333333\n",
      " 4.         4.66666667 5.33333333 6.        ]\n"
     ]
    }
   ],
   "source": [
    "# Creacion del array utilizando una funcion basada en rangos,\n",
    "# (minimo, maximo, número de elementos del array \n",
    "print(np.linspace(0, 6, 10))"
   ]
  },
  {
   "cell_type": "code",
   "execution_count": 8,
   "id": "c9a8060a-aeba-49dc-814a-9ad2210c8758",
   "metadata": {},
   "outputs": [
    {
     "data": {
      "text/plain": [
       "array([[[0.85674122, 0.40673368, 0.4293067 , 0.05152992],\n",
       "        [0.16624536, 0.34953352, 0.66823455, 0.41410743],\n",
       "        [0.41612154, 0.0893327 , 0.92021933, 0.5381863 ]],\n",
       "\n",
       "       [[0.93037447, 0.4342741 , 0.33613465, 0.98895364],\n",
       "        [0.02223632, 0.70536792, 0.24520336, 0.29387428],\n",
       "        [0.87914333, 0.62420452, 0.9855144 , 0.20670599]]])"
      ]
     },
     "execution_count": 8,
     "metadata": {},
     "output_type": "execute_result"
    }
   ],
   "source": [
    "# Inicializar un array con valores aleatorios \n",
    "np.random.rand(2, 3, 4)"
   ]
  },
  {
   "cell_type": "code",
   "execution_count": 9,
   "id": "aeff682d-a92d-4793-98c8-60d059434508",
   "metadata": {},
   "outputs": [
    {
     "data": {
      "text/plain": [
       "array([[-0.71028111, -0.22762347,  0.87093304, -0.51542794],\n",
       "       [ 0.6074326 ,  1.51390228, -1.82037247,  0.39193277]])"
      ]
     },
     "execution_count": 9,
     "metadata": {},
     "output_type": "execute_result"
    }
   ],
   "source": [
    "# Inicializar un array con valores aleatorios conforme a una distribución normal \n",
    "np.random.randn(2, 4)"
   ]
  },
  {
   "cell_type": "code",
   "execution_count": 14,
   "id": "1b794770-1949-4e88-abb7-d11950e50951",
   "metadata": {},
   "outputs": [
    {
     "data": {
      "image/png": "[encoded data removed]",
      "text/plain": [
       "<Figure size 640x480 with 1 Axes>"
      ]
     },
     "metadata": {},
     "output_type": "display_data"
    }
   ],
   "source": [
    "%matplotlib inline\n",
    "import matplotlib.pyplot as plt\n",
    "c = np.random.randn(100000)\n",
    "\n",
    "plt.hist(c, bins=300)\n",
    "plt.show()"
   ]
  },
  {
   "cell_type": "markdown",
   "id": "7f638c92-e13f-497f-9e48-a53ab78647c4",
   "metadata": {},
   "source": [
    "#Inicializar un array ulizando una funcion personalizada \n",
    "def func(x, y):\n",
    "    return x + 2 * y\n",
    "np.fromfunction(func, (3, 5))"
   ]
  },
  {
   "cell_type": "markdown",
   "id": "56cd8b95-b079-41c8-b193-e9f6bc9130ed",
   "metadata": {},
   "source": [
    "## Acceso a los elementos de un array\n",
    "### Array unidimensional"
   ]
  },
  {
   "cell_type": "code",
   "execution_count": 16,
   "id": "5edc3f3b-081b-4f0f-8a3e-19e093cb9f39",
   "metadata": {},
   "outputs": [
    {
     "name": "stdout",
     "output_type": "stream",
     "text": [
      "Shape:  (6,)\n",
      "Array_uni:  [ 1  3  5  7  9 11]\n"
     ]
    }
   ],
   "source": [
    "# Creacion de un array unidimensional \n",
    "array_uni = np.array([1, 3, 5, 7, 9, 11])\n",
    "print(\"Shape: \", array_uni.shape)\n",
    "print(\"Array_uni: \", array_uni)"
   ]
  },
  {
   "cell_type": "code",
   "execution_count": 17,
   "id": "5f3892b8-909a-4284-92da-31d8b6623021",
   "metadata": {},
   "outputs": [
    {
     "data": {
      "text/plain": [
       "np.int64(9)"
      ]
     },
     "execution_count": 17,
     "metadata": {},
     "output_type": "execute_result"
    }
   ],
   "source": [
    "# Accediendo al 5to elemento del Array\n",
    "array_uni[4]"
   ]
  },
  {
   "cell_type": "code",
   "execution_count": 19,
   "id": "1bba6723-2308-400c-91cb-6c79acd16599",
   "metadata": {},
   "outputs": [
    {
     "data": {
      "text/plain": [
       "array([5, 7])"
      ]
     },
     "execution_count": 19,
     "metadata": {},
     "output_type": "execute_result"
    }
   ],
   "source": [
    "# Accediendo al tercer y cuarto elemento del array\n",
    "array_uni[2:4]"
   ]
  },
  {
   "cell_type": "code",
   "execution_count": 22,
   "id": "8bb397ca-16f4-4874-86a6-021a2b31b87c",
   "metadata": {},
   "outputs": [
    {
     "data": {
      "text/plain": [
       "array([ 1, 11])"
      ]
     },
     "execution_count": 22,
     "metadata": {},
     "output_type": "execute_result"
    }
   ],
   "source": [
    "# Acceder a los elentos 0, 3, 5 del Array \n",
    "array_uni[0::5]"
   ]
  },
  {
   "cell_type": "markdown",
   "id": "6887a5ca-bff7-4923-bfcf-a950fd05c12c",
   "metadata": {},
   "source": [
    "## Array multidimensional"
   ]
  },
  {
   "cell_type": "code",
   "execution_count": 24,
   "id": "0b2c0e6d-00e5-4b6f-8bb4-449f97aabeb6",
   "metadata": {},
   "outputs": [
    {
     "name": "stdout",
     "output_type": "stream",
     "text": [
      "Shape:  (2, 4)\n",
      "Array_uni:  [[1 2 3 4]\n",
      " [5 6 7 8]]\n"
     ]
    }
   ],
   "source": [
    "# Creacion de un array multidimensional\n",
    "array_multi = np.array([[1, 2, 3, 4],[5, 6, 7, 8]])\n",
    "print(\"Shape: \", array_multi.shape)\n",
    "print(\"Array_multi: \", array_multi)"
   ]
  },
  {
   "cell_type": "code",
   "execution_count": 26,
   "id": "1cebe1f9-b4c3-433f-ab21-67a23517088a",
   "metadata": {},
   "outputs": [
    {
     "data": {
      "text/plain": [
       "np.int64(4)"
      ]
     },
     "execution_count": 26,
     "metadata": {},
     "output_type": "execute_result"
    }
   ],
   "source": [
    "# Accediendo al 4to elemento del array \n",
    "array_multi[0, 3]"
   ]
  },
  {
   "cell_type": "code",
   "execution_count": 27,
   "id": "72b93d36-3056-41a4-b10b-9c3ba113de24",
   "metadata": {},
   "outputs": [
    {
     "data": {
      "text/plain": [
       "array([5, 6, 7, 8])"
      ]
     },
     "execution_count": 27,
     "metadata": {},
     "output_type": "execute_result"
    }
   ],
   "source": [
    "# Accediendo a la segunda fila del array\n",
    "array_multi[1 , :]"
   ]
  },
  {
   "cell_type": "code",
   "execution_count": 28,
   "id": "a0525be1-ea5f-409c-880d-f1c895fac0d7",
   "metadata": {},
   "outputs": [
    {
     "data": {
      "text/plain": [
       "array([3, 7])"
      ]
     },
     "execution_count": 28,
     "metadata": {},
     "output_type": "execute_result"
    }
   ],
   "source": [
    "# Accediendo al 3er elemento de las dos primeras filas del array \n",
    "array_multi[0: 2, 2]"
   ]
  },
  {
   "cell_type": "markdown",
   "id": "bf52ffde-8ba2-432e-b4ee-12e73305c834",
   "metadata": {},
   "source": [
    "## Modificacion de un Array"
   ]
  },
  {
   "cell_type": "code",
   "execution_count": 29,
   "id": "8b1cdecb-f88a-43f6-9ef1-f6dc6b6360d1",
   "metadata": {},
   "outputs": [
    {
     "name": "stdout",
     "output_type": "stream",
     "text": [
      "Shape:  (28,)\n",
      "Array_uni:  [ 0  1  2  3  4  5  6  7  8  9 10 11 12 13 14 15 16 17 18 19 20 21 22 23\n",
      " 24 25 26 27]\n"
     ]
    }
   ],
   "source": [
    "# Creacion de un array unidimensional inicializado con el rango de elementos que va del 0 al 27 \n",
    "array1 = np.arange(28)\n",
    "print(\"Shape: \", array1.shape)\n",
    "print(\"Array1: \", array1)"
   ]
  },
  {
   "cell_type": "code",
   "execution_count": 32,
   "id": "4b9a7785-9f88-4c18-b4f3-a227aa371dee",
   "metadata": {},
   "outputs": [
    {
     "name": "stdout",
     "output_type": "stream",
     "text": [
      "Shape:  (7, 4)\n",
      "Array1:  [[ 0  1  2  3]\n",
      " [ 4  5  6  7]\n",
      " [ 8  9 10 11]\n",
      " [12 13 14 15]\n",
      " [16 17 18 19]\n",
      " [20 21 22 23]\n",
      " [24 25 26 27]]\n"
     ]
    }
   ],
   "source": [
    "# Cambiar las dimensiones del array y longitudes \n",
    "array1.shape = (7, 4)\n",
    "print(\"Shape: \", array1.shape)\n",
    "print(\"Array1: \", array1)"
   ]
  },
  {
   "cell_type": "code",
   "execution_count": 34,
   "id": "5edd2442-083b-4990-bbf7-75da3cc8bfff",
   "metadata": {},
   "outputs": [
    {
     "name": "stdout",
     "output_type": "stream",
     "text": [
      "Shape:  (4, 7)\n",
      "Array2:\n",
      " [[ 0  1  2  3  4  5  6]\n",
      " [ 7  8  9 10 11 12 13]\n",
      " [14 15 16 17 18 19 20]\n",
      " [21 22 23 24 25 26 27]]\n"
     ]
    }
   ],
   "source": [
    "# El ejemplo anterior devuelve un nuevo array que apunta a los mismos datos\n",
    "# Nota: Las modificaciones en un array, modifican el otro array\n",
    "array2 = array1.reshape(4, 7)\n",
    "print(\"Shape: \", array2.shape)\n",
    "print(\"Array2:\\n\", array2)"
   ]
  },
  {
   "cell_type": "code",
   "execution_count": 35,
   "id": "c1f1da41-7589-49ac-9737-69ff257a1fa0",
   "metadata": {},
   "outputs": [
    {
     "name": "stdout",
     "output_type": "stream",
     "text": [
      "Array2\n",
      " [[ 0  1  2 20  4  5  6]\n",
      " [ 7  8  9 10 11 12 13]\n",
      " [14 15 16 17 18 19 20]\n",
      " [21 22 23 24 25 26 27]]\n"
     ]
    }
   ],
   "source": [
    "# Modificación del array devuelto\n",
    "array2[0, 3] = 20\n",
    "print(\"Array2\\n\", array2)"
   ]
  },
  {
   "cell_type": "code",
   "execution_count": 37,
   "id": "d3d24e72-8350-437b-96ce-b5b78aa146a8",
   "metadata": {},
   "outputs": [
    {
     "name": "stdout",
     "output_type": "stream",
     "text": [
      "Array1: \n",
      " [[ 0  1  2 20]\n",
      " [ 4  5  6  7]\n",
      " [ 8  9 10 11]\n",
      " [12 13 14 15]\n",
      " [16 17 18 19]\n",
      " [20 21 22 23]\n",
      " [24 25 26 27]]\n"
     ]
    }
   ],
   "source": [
    "print(\"Array1: \\n\", array1)"
   ]
  },
  {
   "cell_type": "code",
   "execution_count": 38,
   "id": "6ed8304b-e09a-4ca2-9717-9b571610647b",
   "metadata": {},
   "outputs": [
    {
     "name": "stdout",
     "output_type": "stream",
     "text": [
      "Array 1:\n",
      " [ 0  1  2 20  4  5  6  7  8  9 10 11 12 13 14 15 16 17 18 19 20 21 22 23\n",
      " 24 25 26 27]\n"
     ]
    }
   ],
   "source": [
    "# Duevuelve el array a uha sola dimensión \n",
    "# Nota : el nuevo array apunta a los mismos datos\n",
    "print(\"Array 1:\\n\", array1.ravel())"
   ]
  },
  {
   "cell_type": "markdown",
   "id": "2ffe4ff3-07bf-4d67-a394-fd028d57a034",
   "metadata": {},
   "source": [
    "## Opraciones Aritméticas con Arrays"
   ]
  },
  {
   "cell_type": "code",
   "execution_count": 40,
   "id": "d30bf6f6-ccf1-44f9-929f-0b8d967c5ae7",
   "metadata": {},
   "outputs": [
    {
     "name": "stdout",
     "output_type": "stream",
     "text": [
      "Array1:\n",
      " [ 2  4  6  8 10 12 14 16]\n",
      "Array2:\n",
      " [0 1 2 3 4 5 6 7]\n"
     ]
    }
   ],
   "source": [
    "# Creacion de dos arrays unidimensionales\n",
    "array1 = np.arange(2, 18, 2)\n",
    "array2 = np.arange(8)\n",
    "print(\"Array1:\\n\", array1)\n",
    "print(\"Array2:\\n\", array2)"
   ]
  },
  {
   "cell_type": "code",
   "execution_count": 41,
   "id": "05f5312e-dd2f-4c02-aa71-27c9cef80dd5",
   "metadata": {},
   "outputs": [
    {
     "name": "stdout",
     "output_type": "stream",
     "text": [
      "[ 2  5  8 11 14 17 20 23]\n"
     ]
    }
   ],
   "source": [
    "# Suma \n",
    "print(array1 + array2)"
   ]
  },
  {
   "cell_type": "code",
   "execution_count": 42,
   "id": "e8c3ba64-d700-4392-a457-ba855ac1f854",
   "metadata": {},
   "outputs": [
    {
     "name": "stdout",
     "output_type": "stream",
     "text": [
      "[2 3 4 5 6 7 8 9]\n"
     ]
    }
   ],
   "source": [
    "# Resta\n",
    "print(array1 - array2)"
   ]
  },
  {
   "cell_type": "code",
   "execution_count": 43,
   "id": "9cf5d451-e562-47f2-a5ba-4c23cc079b26",
   "metadata": {},
   "outputs": [
    {
     "name": "stdout",
     "output_type": "stream",
     "text": [
      "[  0   4  12  24  40  60  84 112]\n"
     ]
    }
   ],
   "source": [
    "# Multiplicacion \n",
    "# Nota : No es una multiplicacion de matrices\n",
    "print(array1 * array2)"
   ]
  },
  {
   "cell_type": "markdown",
   "id": "f4aa8e9c-f796-46dc-80f0-9e67ef35ec36",
   "metadata": {},
   "source": [
    "## Broadcasting\n",
    "Si se aplican operaciones aritmémiticas sobre arrays que no tienen la misma forma (shape) Numpy aplica una propiedad que se denomina Broadcasting"
   ]
  },
  {
   "cell_type": "code",
   "execution_count": 45,
   "id": "070405f7-bf6a-4fdf-ae73-592df26ed3df",
   "metadata": {},
   "outputs": [
    {
     "name": "stdout",
     "output_type": "stream",
     "text": [
      "Shape:  (5,)\n",
      "Array1:\n",
      " [0 1 2 3 4]\n",
      "Shape:  (1,)\n",
      "Array2:\n",
      " [3]\n"
     ]
    }
   ],
   "source": [
    "# Creacion de arrays unidimensionales\n",
    "array1 = np.arange(5)\n",
    "array2 = np.array([3])\n",
    "print(\"Shape: \", array1.shape)\n",
    "print(\"Array1:\\n\", array1)\n",
    "print(\"Shape: \", array2.shape)\n",
    "print(\"Array2:\\n\", array2)"
   ]
  },
  {
   "cell_type": "code",
   "execution_count": 46,
   "id": "09a1b10d-5dc8-4576-9ba7-da8acaeadb09",
   "metadata": {},
   "outputs": [
    {
     "data": {
      "text/plain": [
       "array([3, 4, 5, 6, 7])"
      ]
     },
     "execution_count": 46,
     "metadata": {},
     "output_type": "execute_result"
    }
   ],
   "source": [
    "# Suma de ambos arrays\n",
    "array1 + array2"
   ]
  },
  {
   "cell_type": "code",
   "execution_count": 48,
   "id": "549ed24a-8aa3-46c6-bfdb-2926830f3280",
   "metadata": {},
   "outputs": [
    {
     "name": "stdout",
     "output_type": "stream",
     "text": [
      "Shape:  (2, 3)\n",
      "Array1:\n",
      " [[0 1 2]\n",
      " [3 4 5]]\n",
      "Shape:  (3,)\n",
      "Array2:\n",
      " [ 6 10 14]\n"
     ]
    }
   ],
   "source": [
    "# Creacion de dos array multidimensionales y unidimensional\n",
    "array1 = np.arange(6)\n",
    "array1.shape = (2, 3)\n",
    "array2 = np.arange(6, 18, 4)\n",
    "print(\"Shape: \", array1.shape)\n",
    "print(\"Array1:\\n\", array1)\n",
    "print(\"Shape: \", array2.shape)\n",
    "print(\"Array2:\\n\", array2)"
   ]
  },
  {
   "cell_type": "code",
   "execution_count": 49,
   "id": "64a92c88-bd50-4be5-868c-2025e98767e0",
   "metadata": {},
   "outputs": [
    {
     "data": {
      "text/plain": [
       "array([[ 6, 11, 16],\n",
       "       [ 9, 14, 19]])"
      ]
     },
     "execution_count": 49,
     "metadata": {},
     "output_type": "execute_result"
    }
   ],
   "source": [
    "# Suma de ambos arrays\n",
    "array1 + array2"
   ]
  },
  {
   "cell_type": "markdown",
   "id": "58a8f977-82e1-49c6-b221-5782f2e5560a",
   "metadata": {},
   "source": [
    "## Funciones estadisticas sobre arrays "
   ]
  },
  {
   "cell_type": "code",
   "execution_count": 51,
   "id": "cfbf1a47-0d9b-461f-9b22-0d260f1eb4d9",
   "metadata": {},
   "outputs": [
    {
     "name": "stdout",
     "output_type": "stream",
     "text": [
      "Array1:  [ 1  3  5  7  9 11 13 15 17 19]\n"
     ]
    }
   ],
   "source": [
    "# Creacion de un array unidimensional \n",
    "array1 = np.arange(1, 20, 2)\n",
    "print(\"Array1: \", array1)"
   ]
  },
  {
   "cell_type": "code",
   "execution_count": 52,
   "id": "b3687023-7aec-4f0e-b483-e2269cc59b87",
   "metadata": {},
   "outputs": [
    {
     "data": {
      "text/plain": [
       "np.float64(10.0)"
      ]
     },
     "execution_count": 52,
     "metadata": {},
     "output_type": "execute_result"
    }
   ],
   "source": [
    "# Media de los elementos del array\n",
    "array1.mean()"
   ]
  },
  {
   "cell_type": "code",
   "execution_count": 53,
   "id": "82d8fade-8397-4450-b4b1-5e609bc5aaf0",
   "metadata": {},
   "outputs": [
    {
     "data": {
      "text/plain": [
       "np.int64(100)"
      ]
     },
     "execution_count": 53,
     "metadata": {},
     "output_type": "execute_result"
    }
   ],
   "source": [
    "# Suma de los elemntos de array \n",
    "array1.sum()"
   ]
  },
  {
   "cell_type": "markdown",
   "id": "97ce1d8f-e4ef-45da-aa7b-678e8b0efaa3",
   "metadata": {},
   "source": [
    "Funciones universales eficientes proporcionadas por Numpy: **ufunc**"
   ]
  },
  {
   "cell_type": "code",
   "execution_count": 54,
   "id": "2b4ace65-d6c3-41f6-ba1f-3d2c1914965c",
   "metadata": {},
   "outputs": [
    {
     "data": {
      "text/plain": [
       "array([  1,   9,  25,  49,  81, 121, 169, 225, 289, 361])"
      ]
     },
     "execution_count": 54,
     "metadata": {},
     "output_type": "execute_result"
    }
   ],
   "source": [
    "# Cuadrado de los elementos del array\n",
    "np.square(array1)"
   ]
  },
  {
   "cell_type": "code",
   "execution_count": 55,
   "id": "cf11898c-d120-421d-80fc-571f66233e05",
   "metadata": {},
   "outputs": [
    {
     "data": {
      "text/plain": [
       "array([1.        , 1.73205081, 2.23606798, 2.64575131, 3.        ,\n",
       "       3.31662479, 3.60555128, 3.87298335, 4.12310563, 4.35889894])"
      ]
     },
     "execution_count": 55,
     "metadata": {},
     "output_type": "execute_result"
    }
   ],
   "source": [
    "# Raiz cuadrado de los elementos del array\n",
    "np.sqrt(array1)"
   ]
  },
  {
   "cell_type": "code",
   "execution_count": 56,
   "id": "d4c1af58-bbe9-4ebd-8a1b-101cc8e570cf",
   "metadata": {},
   "outputs": [
    {
     "data": {
      "text/plain": [
       "array([2.71828183e+00, 2.00855369e+01, 1.48413159e+02, 1.09663316e+03,\n",
       "       8.10308393e+03, 5.98741417e+04, 4.42413392e+05, 3.26901737e+06,\n",
       "       2.41549528e+07, 1.78482301e+08])"
      ]
     },
     "execution_count": 56,
     "metadata": {},
     "output_type": "execute_result"
    }
   ],
   "source": [
    "# Exponencial de los elementos del array\n",
    "np.exp(array1)"
   ]
  },
  {
   "cell_type": "code",
   "execution_count": 57,
   "id": "9ea9cdba-e03e-4ca8-8192-62f9602b7fa6",
   "metadata": {},
   "outputs": [
    {
     "data": {
      "text/plain": [
       "array([0.        , 1.09861229, 1.60943791, 1.94591015, 2.19722458,\n",
       "       2.39789527, 2.56494936, 2.7080502 , 2.83321334, 2.94443898])"
      ]
     },
     "execution_count": 57,
     "metadata": {},
     "output_type": "execute_result"
    }
   ],
   "source": [
    "# Logaritmo natural de los elementos del array \n",
    "np.log(array1)"
   ]
  },
  {
   "cell_type": "code",
   "execution_count": null,
   "id": "ab90dfe0-c823-467a-ad13-4297faa4093f",
   "metadata": {},
   "outputs": [],
   "source": []
  }
 ],
 "metadata": {
  "kernelspec": {
   "display_name": "Python 3 (ipykernel)",
   "language": "python",
   "name": "python3"
  },
  "language_info": {
   "codemirror_mode": {
    "name": "ipython",
    "version": 3
   },
   "file_extension": ".py",
   "mimetype": "text/x-python",
   "name": "python",
   "nbconvert_exporter": "python",
   "pygments_lexer": "ipython3",
   "version": "3.9.19"
  }
 },
 "nbformat": 4,
 "nbformat_minor": 5
}
