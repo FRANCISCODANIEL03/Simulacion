{
 "cells": [
  {
   "cell_type": "markdown",
   "id": "a7109db6-a885-42c2-b369-78de391b7feb",
   "metadata": {},
   "source": [
    "# Caso Práctico: Support Vector Machine (SVM)\n",
    "\n",
    "# DataSets: Detección de URL's Maliciosas\n",
    "\n",
    "## Descripcion\n",
    "\n",
    "URL dataset (ISCX-URL2016)\n",
    "\n",
    "The Web has long become a major platform for online criminal activities. URLs are used as the main vehicle in this domain. To counter this issues security community focused its efforts on developing techniques for mostly blacklisting of malicious URLs.\n",
    "\n",
    "While successful in protecting users from known malicious domains, this approach only solves part of the problem. The new malicious URLs that sprang up all over the web in masses commonly get a head start in this race. Besides that, Alexa ranked, trusted websites may convey compromised fraudulent URLs called defacement URL.\n",
    "\n",
    "We explore a lightweight approach to detection and categorization of the malicious URLs according to their attack type and show that lexical analysis is effective and efficient for proactive detection of these URLs. We also study the effect of the obfuscation techniques on malicious URLs to figure out the type of obfuscation technique targeted at specific type of malicious URL. We study mainly five different types of URLs:\n",
    "\n",
    "Benign URLs: Over 35,300 benign URLs were collected from Alexa top websites. The domains have been passed through a Heritrix web crawler to extract the URLs. Around half a million unique URLs are crawled initially and then passed to remove duplicate and domain only URLs. Later the extracted URLs have been checked through Virustotal to filter the benign URLs.\n",
    "\n",
    "Spam URLs: Around 12,000 spam URLs were collected from the publicly available WEBSPAM-UK2007 dataset.\n",
    "\n",
    "Phishing URLs: Around 10,000 phishing URLs were taken from OpenPhish which is a repository of active phishing sites.\n",
    "\n",
    "Malware URLs: More than 11,500 URLs related to malware websites were obtained from DNS-BH which is a project that maintain list of malware sites.\n",
    "\n",
    "Defacement URLs: More than 45,450 URLs belong to Defacement URL category. They are Alexa ranked trusted websites hosting fraudulent or hidden URL that contains both malicious web pages.\n",
    "\n",
    "Obfuscation is used as a common method for masking malicious URLs. An attacker intending to evade static analysis on lexical URL features use obfuscation techniques so that malicious URLs become statistically like the benign ones. The obfuscation techniques on URLs is analyzed for the intent of malicious activity in this research. We analyzed mainly Spam, Phishing and Malware URLs to see what kind of obfuscation techniques applied on the URLs."
   ]
  },
  {
   "cell_type": "markdown",
   "id": "4bff6aa8-c05e-42ab-897f-5767af916263",
   "metadata": {},
   "source": [
    "# Imports"
   ]
  },
  {
   "cell_type": "code",
   "execution_count": 1,
   "id": "a36dea83-6831-4094-90bd-f9842efcb7f0",
   "metadata": {},
   "outputs": [],
   "source": [
    "%matplotlib inline\n",
    "import matplotlib.pyplot as plt\n",
    "import pandas as pd\n",
    "from sklearn.model_selection import train_test_split\n",
    "import numpy as np\n",
    "from sklearn.metrics import f1_score\n",
    "from sklearn.preprocessing import StandardScaler, RobustScaler\n",
    "from sklearn.pipeline import Pipeline"
   ]
  },
  {
   "cell_type": "markdown",
   "id": "38f839a9-dfac-4c41-ba01-63537e8b6d1e",
   "metadata": {},
   "source": [
    "## Funciones Auxiliares"
   ]
  },
  {
   "cell_type": "code",
   "execution_count": 2,
   "id": "dcd3a51c-1bee-437b-b883-5cdb2a4c494f",
   "metadata": {},
   "outputs": [],
   "source": [
    "# Construcción de una función que realice le particionado completo\n",
    "def train_val_test_split(df, rsate = 42, shuffle = True, stratify = None):\n",
    "    strat = df[stratify] if stratify else None\n",
    "    train_set, test_set = train_test_split(\n",
    "        df, test_size = 0.4, random_state = rsate, shuffle = shuffle, stratify = strat)\n",
    "    strat = test_set[stratify] if stratify else None\n",
    "    val_set, test_set = train_test_split(\n",
    "        test_set, test_size = 0.5, random_state = rsate, shuffle = shuffle, stratify = strat)\n",
    "    return (train_set, val_set, test_set)"
   ]
  },
  {
   "cell_type": "code",
   "execution_count": 3,
   "id": "b03a85e4-16ee-4d3a-b280-71f074e60e34",
   "metadata": {},
   "outputs": [],
   "source": [
    "# Representacion grafica del limite de decisión.\n",
    "def plot_svm_decision_boundary(svm_clf, xmin, xmax):\n",
    "    w = svm_clf.coef_[0]\n",
    "    b = svm_clf.intercept_[0]\n",
    "\n",
    "    # At the decision boundary, w0*x0 + w1*x1 + b = 0\n",
    "    # => x1 = -w0/w1 * x0 -b/w1\n",
    "    x0 = np.linspace(xmin, xmax, 200)\n",
    "    decision_boundary = -w[0]/w[1] * x0 -b/w[1]\n",
    "\n",
    "    margin = 1/w[1]\n",
    "    gutter_up = decision_boundary + margin\n",
    "    gutter_down = decision_boundary- margin\n",
    "\n",
    "    svm = svm_clf.support_vectors_\n",
    "    plt.scatter(svm[:, 0], svm[:, 1], s=180, facecolors='#ffaaaa')\n",
    "    plt.plot(x0, decision_boundary, 'k-', linewidth=2)\n",
    "    ply.plot(x0, gutter_up, 'k--', linewidth=2)\n",
    "    ply.plot(x0, gutter_down, 'k--', linewidth=2)"
   ]
  },
  {
   "cell_type": "code",
   "execution_count": null,
   "id": "f31c9938-b16a-4aff-a261-488b763ed0ba",
   "metadata": {},
   "outputs": [],
   "source": []
  }
 ],
 "metadata": {
  "kernelspec": {
   "display_name": "Python 3 (ipykernel)",
   "language": "python",
   "name": "python3"
  },
  "language_info": {
   "codemirror_mode": {
    "name": "ipython",
    "version": 3
   },
   "file_extension": ".py",
   "mimetype": "text/x-python",
   "name": "python",
   "nbconvert_exporter": "python",
   "pygments_lexer": "ipython3",
   "version": "3.9.19"
  }
 },
 "nbformat": 4,
 "nbformat_minor": 5
}
